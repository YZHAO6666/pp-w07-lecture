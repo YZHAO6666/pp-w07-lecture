{
 "cells": [
  {
   "cell_type": "markdown",
   "metadata": {
    "slideshow": {
     "slide_type": "slide"
    }
   },
   "source": [
    "\n",
    "# Week 7: SciPy and pandas\n",
    "\n",
    "Charlotte Desvages"
   ]
  },
  {
   "cell_type": "markdown",
   "metadata": {
    "slideshow": {
     "slide_type": "slide"
    }
   },
   "source": [
    "## pandas\n",
    "\n",
    "pandas is a package for **data analysis and manipulation**.\n",
    "\n",
    "It introduces 2 new container types: `Series` (for 1D data, e.g. time series) and `DataFrame` (for 2D data, e.g. something you could see in a spreadsheet)."
   ]
  },
  {
   "cell_type": "code",
   "execution_count": 3,
   "metadata": {
    "slideshow": {
     "slide_type": "fragment"
    }
   },
   "outputs": [
    {
     "data": {
      "text/html": [
       "<div>\n",
       "<style scoped>\n",
       "    .dataframe tbody tr th:only-of-type {\n",
       "        vertical-align: middle;\n",
       "    }\n",
       "\n",
       "    .dataframe tbody tr th {\n",
       "        vertical-align: top;\n",
       "    }\n",
       "\n",
       "    .dataframe thead th {\n",
       "        text-align: right;\n",
       "    }\n",
       "</style>\n",
       "<table border=\"1\" class=\"dataframe\">\n",
       "  <thead>\n",
       "    <tr style=\"text-align: right;\">\n",
       "      <th></th>\n",
       "      <th>name</th>\n",
       "      <th>age</th>\n",
       "      <th>city</th>\n",
       "      <th>team</th>\n",
       "    </tr>\n",
       "  </thead>\n",
       "  <tbody>\n",
       "    <tr>\n",
       "      <th>1</th>\n",
       "      <td>Mariam</td>\n",
       "      <td>51</td>\n",
       "      <td>Perth</td>\n",
       "      <td>red</td>\n",
       "    </tr>\n",
       "    <tr>\n",
       "      <th>2</th>\n",
       "      <td>Hashim</td>\n",
       "      <td>32</td>\n",
       "      <td>Edinburgh</td>\n",
       "      <td>red</td>\n",
       "    </tr>\n",
       "    <tr>\n",
       "      <th>3</th>\n",
       "      <td>Ayesha</td>\n",
       "      <td>33</td>\n",
       "      <td>Glasgow</td>\n",
       "      <td>blue</td>\n",
       "    </tr>\n",
       "    <tr>\n",
       "      <th>4</th>\n",
       "      <td>Ronan</td>\n",
       "      <td>46</td>\n",
       "      <td>Inverness</td>\n",
       "      <td>red</td>\n",
       "    </tr>\n",
       "    <tr>\n",
       "      <th>5</th>\n",
       "      <td>Louisa</td>\n",
       "      <td>29</td>\n",
       "      <td>Falkirk</td>\n",
       "      <td>blue</td>\n",
       "    </tr>\n",
       "    <tr>\n",
       "      <th>6</th>\n",
       "      <td>Benjamin</td>\n",
       "      <td>44</td>\n",
       "      <td>Aberdeen</td>\n",
       "      <td>blue</td>\n",
       "    </tr>\n",
       "  </tbody>\n",
       "</table>\n",
       "</div>"
      ],
      "text/plain": [
       "       name  age       city  team\n",
       "1    Mariam   51      Perth   red\n",
       "2    Hashim   32  Edinburgh   red\n",
       "3    Ayesha   33    Glasgow  blue\n",
       "4     Ronan   46  Inverness   red\n",
       "5    Louisa   29    Falkirk  blue\n",
       "6  Benjamin   44   Aberdeen  blue"
      ]
     },
     "execution_count": 3,
     "metadata": {},
     "output_type": "execute_result"
    }
   ],
   "source": [
    "import pandas as pd\n",
    "\n",
    "contestants = {'name': ['Mariam', 'Hashim', 'Ayesha', 'Ronan', 'Louisa', 'Benjamin'],\n",
    "               'age': [51, 32, 33, 46, 29, 44],\n",
    "               'city': ['Perth', 'Edinburgh', 'Glasgow', 'Inverness', 'Falkirk', 'Aberdeen'],\n",
    "               'team': ['red', 'red', 'blue', 'red', 'blue', 'blue']}\n",
    "\n",
    "df = pd.DataFrame(contestants, index=range(1, 7))\n",
    "df # print(df)"
   ]
  },
  {
   "cell_type": "code",
   "execution_count": 5,
   "metadata": {},
   "outputs": [
    {
     "data": {
      "text/html": [
       "<div>\n",
       "<style scoped>\n",
       "    .dataframe tbody tr th:only-of-type {\n",
       "        vertical-align: middle;\n",
       "    }\n",
       "\n",
       "    .dataframe tbody tr th {\n",
       "        vertical-align: top;\n",
       "    }\n",
       "\n",
       "    .dataframe thead th {\n",
       "        text-align: right;\n",
       "    }\n",
       "</style>\n",
       "<table border=\"1\" class=\"dataframe\">\n",
       "  <thead>\n",
       "    <tr style=\"text-align: right;\">\n",
       "      <th></th>\n",
       "      <th>name</th>\n",
       "      <th>age</th>\n",
       "      <th>city</th>\n",
       "      <th>team</th>\n",
       "    </tr>\n",
       "  </thead>\n",
       "  <tbody>\n",
       "    <tr>\n",
       "      <th>1</th>\n",
       "      <td>Mariam</td>\n",
       "      <td>51</td>\n",
       "      <td>Perth</td>\n",
       "      <td>red</td>\n",
       "    </tr>\n",
       "    <tr>\n",
       "      <th>2</th>\n",
       "      <td>Hashim</td>\n",
       "      <td>32</td>\n",
       "      <td>Edinburgh</td>\n",
       "      <td>red</td>\n",
       "    </tr>\n",
       "    <tr>\n",
       "      <th>3</th>\n",
       "      <td>Ayesha</td>\n",
       "      <td>33</td>\n",
       "      <td>Glasgow</td>\n",
       "      <td>blue</td>\n",
       "    </tr>\n",
       "    <tr>\n",
       "      <th>4</th>\n",
       "      <td>Ronan</td>\n",
       "      <td>46</td>\n",
       "      <td>Inverness</td>\n",
       "      <td>red</td>\n",
       "    </tr>\n",
       "    <tr>\n",
       "      <th>5</th>\n",
       "      <td>Louisa</td>\n",
       "      <td>29</td>\n",
       "      <td>Falkirk</td>\n",
       "      <td>blue</td>\n",
       "    </tr>\n",
       "    <tr>\n",
       "      <th>6</th>\n",
       "      <td>Benjamin</td>\n",
       "      <td>44</td>\n",
       "      <td>Aberdeen</td>\n",
       "      <td>blue</td>\n",
       "    </tr>\n",
       "  </tbody>\n",
       "</table>\n",
       "</div>"
      ],
      "text/plain": [
       "       name  age       city  team\n",
       "1    Mariam   51      Perth   red\n",
       "2    Hashim   32  Edinburgh   red\n",
       "3    Ayesha   33    Glasgow  blue\n",
       "4     Ronan   46  Inverness   red\n",
       "5    Louisa   29    Falkirk  blue\n",
       "6  Benjamin   44   Aberdeen  blue"
      ]
     },
     "execution_count": 5,
     "metadata": {},
     "output_type": "execute_result"
    }
   ],
   "source": [
    "df = pd.DataFrame(contestants, index=range(1,7))\n",
    "df"
   ]
  },
  {
   "cell_type": "code",
   "execution_count": 6,
   "metadata": {},
   "outputs": [
    {
     "data": {
      "text/html": [
       "<div>\n",
       "<style scoped>\n",
       "    .dataframe tbody tr th:only-of-type {\n",
       "        vertical-align: middle;\n",
       "    }\n",
       "\n",
       "    .dataframe tbody tr th {\n",
       "        vertical-align: top;\n",
       "    }\n",
       "\n",
       "    .dataframe thead th {\n",
       "        text-align: right;\n",
       "    }\n",
       "</style>\n",
       "<table border=\"1\" class=\"dataframe\">\n",
       "  <thead>\n",
       "    <tr style=\"text-align: right;\">\n",
       "      <th></th>\n",
       "      <th>name</th>\n",
       "      <th>age</th>\n",
       "      <th>city</th>\n",
       "      <th>team</th>\n",
       "    </tr>\n",
       "  </thead>\n",
       "  <tbody>\n",
       "    <tr>\n",
       "      <th>Contestant 1</th>\n",
       "      <td>Mariam</td>\n",
       "      <td>51</td>\n",
       "      <td>Perth</td>\n",
       "      <td>red</td>\n",
       "    </tr>\n",
       "    <tr>\n",
       "      <th>Contestant 2</th>\n",
       "      <td>Hashim</td>\n",
       "      <td>32</td>\n",
       "      <td>Edinburgh</td>\n",
       "      <td>red</td>\n",
       "    </tr>\n",
       "    <tr>\n",
       "      <th>Contestant 3</th>\n",
       "      <td>Ayesha</td>\n",
       "      <td>33</td>\n",
       "      <td>Glasgow</td>\n",
       "      <td>blue</td>\n",
       "    </tr>\n",
       "    <tr>\n",
       "      <th>Contestant 4</th>\n",
       "      <td>Ronan</td>\n",
       "      <td>46</td>\n",
       "      <td>Inverness</td>\n",
       "      <td>red</td>\n",
       "    </tr>\n",
       "    <tr>\n",
       "      <th>Contestant 5</th>\n",
       "      <td>Louisa</td>\n",
       "      <td>29</td>\n",
       "      <td>Falkirk</td>\n",
       "      <td>blue</td>\n",
       "    </tr>\n",
       "    <tr>\n",
       "      <th>Contestant 6</th>\n",
       "      <td>Benjamin</td>\n",
       "      <td>44</td>\n",
       "      <td>Aberdeen</td>\n",
       "      <td>blue</td>\n",
       "    </tr>\n",
       "  </tbody>\n",
       "</table>\n",
       "</div>"
      ],
      "text/plain": [
       "                  name  age       city  team\n",
       "Contestant 1    Mariam   51      Perth   red\n",
       "Contestant 2    Hashim   32  Edinburgh   red\n",
       "Contestant 3    Ayesha   33    Glasgow  blue\n",
       "Contestant 4     Ronan   46  Inverness   red\n",
       "Contestant 5    Louisa   29    Falkirk  blue\n",
       "Contestant 6  Benjamin   44   Aberdeen  blue"
      ]
     },
     "execution_count": 6,
     "metadata": {},
     "output_type": "execute_result"
    }
   ],
   "source": [
    "df = pd.DataFrame(contestants, index=[f'Contestant {i}' for i in range(1, 7)])\n",
    "df"
   ]
  },
  {
   "cell_type": "code",
   "execution_count": 7,
   "metadata": {},
   "outputs": [
    {
     "data": {
      "text/plain": [
       "Contestant 1    51\n",
       "Contestant 2    32\n",
       "Contestant 3    33\n",
       "Contestant 4    46\n",
       "Contestant 5    29\n",
       "Contestant 6    44\n",
       "Name: age, dtype: int64"
      ]
     },
     "execution_count": 7,
     "metadata": {},
     "output_type": "execute_result"
    }
   ],
   "source": [
    "df['age']"
   ]
  },
  {
   "cell_type": "code",
   "execution_count": 10,
   "metadata": {},
   "outputs": [
    {
     "data": {
      "text/plain": [
       "name     Ayesha\n",
       "age          33\n",
       "city    Glasgow\n",
       "team       blue\n",
       "Name: Contestant 3, dtype: object"
      ]
     },
     "execution_count": 10,
     "metadata": {},
     "output_type": "execute_result"
    }
   ],
   "source": [
    "df.loc['Contestant 3', :]"
   ]
  },
  {
   "cell_type": "code",
   "execution_count": 11,
   "metadata": {},
   "outputs": [
    {
     "data": {
      "text/plain": [
       "name     Ayesha\n",
       "age          33\n",
       "city    Glasgow\n",
       "team       blue\n",
       "Name: Contestant 3, dtype: object"
      ]
     },
     "execution_count": 11,
     "metadata": {},
     "output_type": "execute_result"
    }
   ],
   "source": [
    "df.iloc[2, :]"
   ]
  },
  {
   "cell_type": "code",
   "execution_count": 12,
   "metadata": {},
   "outputs": [
    {
     "data": {
      "text/plain": [
       "Contestant 1    False\n",
       "Contestant 2    False\n",
       "Contestant 3     True\n",
       "Contestant 4    False\n",
       "Contestant 5     True\n",
       "Contestant 6     True\n",
       "Name: team, dtype: bool"
      ]
     },
     "execution_count": 12,
     "metadata": {},
     "output_type": "execute_result"
    }
   ],
   "source": [
    "df['team'] == 'blue'"
   ]
  },
  {
   "cell_type": "code",
   "execution_count": 14,
   "metadata": {},
   "outputs": [
    {
     "data": {
      "text/html": [
       "<div>\n",
       "<style scoped>\n",
       "    .dataframe tbody tr th:only-of-type {\n",
       "        vertical-align: middle;\n",
       "    }\n",
       "\n",
       "    .dataframe tbody tr th {\n",
       "        vertical-align: top;\n",
       "    }\n",
       "\n",
       "    .dataframe thead th {\n",
       "        text-align: right;\n",
       "    }\n",
       "</style>\n",
       "<table border=\"1\" class=\"dataframe\">\n",
       "  <thead>\n",
       "    <tr style=\"text-align: right;\">\n",
       "      <th></th>\n",
       "      <th>name</th>\n",
       "      <th>age</th>\n",
       "      <th>city</th>\n",
       "      <th>team</th>\n",
       "    </tr>\n",
       "  </thead>\n",
       "  <tbody>\n",
       "    <tr>\n",
       "      <th>Contestant 3</th>\n",
       "      <td>Ayesha</td>\n",
       "      <td>33</td>\n",
       "      <td>Glasgow</td>\n",
       "      <td>blue</td>\n",
       "    </tr>\n",
       "    <tr>\n",
       "      <th>Contestant 5</th>\n",
       "      <td>Louisa</td>\n",
       "      <td>29</td>\n",
       "      <td>Falkirk</td>\n",
       "      <td>blue</td>\n",
       "    </tr>\n",
       "    <tr>\n",
       "      <th>Contestant 6</th>\n",
       "      <td>Benjamin</td>\n",
       "      <td>44</td>\n",
       "      <td>Aberdeen</td>\n",
       "      <td>blue</td>\n",
       "    </tr>\n",
       "  </tbody>\n",
       "</table>\n",
       "</div>"
      ],
      "text/plain": [
       "                  name  age      city  team\n",
       "Contestant 3    Ayesha   33   Glasgow  blue\n",
       "Contestant 5    Louisa   29   Falkirk  blue\n",
       "Contestant 6  Benjamin   44  Aberdeen  blue"
      ]
     },
     "execution_count": 14,
     "metadata": {},
     "output_type": "execute_result"
    }
   ],
   "source": [
    "df.loc[df['team'] == 'blue']"
   ]
  },
  {
   "cell_type": "code",
   "execution_count": 9,
   "metadata": {},
   "outputs": [
    {
     "data": {
      "text/html": [
       "<div>\n",
       "<style scoped>\n",
       "    .dataframe tbody tr th:only-of-type {\n",
       "        vertical-align: middle;\n",
       "    }\n",
       "\n",
       "    .dataframe tbody tr th {\n",
       "        vertical-align: top;\n",
       "    }\n",
       "\n",
       "    .dataframe thead th {\n",
       "        text-align: right;\n",
       "    }\n",
       "</style>\n",
       "<table border=\"1\" class=\"dataframe\">\n",
       "  <thead>\n",
       "    <tr style=\"text-align: right;\">\n",
       "      <th></th>\n",
       "      <th>age</th>\n",
       "      <th>name</th>\n",
       "    </tr>\n",
       "  </thead>\n",
       "  <tbody>\n",
       "    <tr>\n",
       "      <th>Contestant 3</th>\n",
       "      <td>33</td>\n",
       "      <td>Ayesha</td>\n",
       "    </tr>\n",
       "    <tr>\n",
       "      <th>Contestant 5</th>\n",
       "      <td>29</td>\n",
       "      <td>Louisa</td>\n",
       "    </tr>\n",
       "    <tr>\n",
       "      <th>Contestant 6</th>\n",
       "      <td>44</td>\n",
       "      <td>Benjamin</td>\n",
       "    </tr>\n",
       "  </tbody>\n",
       "</table>\n",
       "</div>"
      ],
      "text/plain": [
       "              age      name\n",
       "Contestant 3   33    Ayesha\n",
       "Contestant 5   29    Louisa\n",
       "Contestant 6   44  Benjamin"
      ]
     },
     "execution_count": 9,
     "metadata": {},
     "output_type": "execute_result"
    }
   ],
   "source": [
    "df.loc[df['team'] == 'blue', ['age', 'name']]"
   ]
  },
  {
   "cell_type": "markdown",
   "metadata": {
    "slideshow": {
     "slide_type": "slide"
    }
   },
   "source": [
    "## pandas\n",
    "\n",
    "There is a **lot** that pandas can do. We'll see more examples next week, but as for SciPy, consulting the documentation is always a good idea."
   ]
  }
 ],
 "metadata": {
  "celltoolbar": "Slideshow",
  "kernelspec": {
   "display_name": "Python 3 (ipykernel)",
   "language": "python",
   "name": "python3"
  },
  "language_info": {
   "codemirror_mode": {
    "name": "ipython",
    "version": 3
   },
   "file_extension": ".py",
   "mimetype": "text/x-python",
   "name": "python",
   "nbconvert_exporter": "python",
   "pygments_lexer": "ipython3",
   "version": "3.7.10"
  }
 },
 "nbformat": 4,
 "nbformat_minor": 4
}
